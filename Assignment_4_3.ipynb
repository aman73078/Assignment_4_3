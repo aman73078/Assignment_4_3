{
 "cells": [
  {
   "cell_type": "code",
   "execution_count": 19,
   "id": "092a6408-43a3-4fd0-83d5-8c4248e3c98d",
   "metadata": {},
   "outputs": [],
   "source": [
    "# Q1. What is Abstraction in OOps? Explain with an example."
   ]
  },
  {
   "cell_type": "code",
   "execution_count": 20,
   "id": "85f28888-cbe1-40bb-b607-f8910b44ec55",
   "metadata": {},
   "outputs": [],
   "source": [
    "# Ans- Abstraction is the process of hiding the internal details of an application from the outer\n",
    "#      world. Abstraction is used to decribe things in simple terms. It's used to create a boundary\n",
    "#      between the application and the client programs.\n",
    "\n",
    "#   Example:- 1. Your car is a great example of abstraction. You can start a car by turning the \n",
    "#                key or pressing the start button. You don’t need to know how the engine is getting\n",
    "#                started, what all components your car has. The car internal implementation and \n",
    "#                complex logic is completely hidden from the user.\n",
    "\n",
    "#             2. We can heat our food in Microwave. We press some buttons to set the timer and type\n",
    "#                of food. Finally, we get a hot and delicious meal. The microwave internal details \n",
    "#                are hidden from us. We have been given access to the functionality in a very \n",
    "#                simple manner."
   ]
  },
  {
   "cell_type": "code",
   "execution_count": 21,
   "id": "8f69e11e-c184-4473-8377-39702148a970",
   "metadata": {},
   "outputs": [],
   "source": [
    "# Q2. Differentiate between Abstraction and Encapsulation. Explain with an example."
   ]
  },
  {
   "cell_type": "code",
   "execution_count": 22,
   "id": "d6951daf-a6ba-471d-9038-4be37bbb16ce",
   "metadata": {},
   "outputs": [],
   "source": [
    "# Ans- The most significant difference between the two is that data abstraction is a method which \n",
    "#      helps to hide the unwanted data from the user, while data encapsulation is a method which \n",
    "#      helps to hide data using a single entity.\n",
    "# Example:-"
   ]
  },
  {
   "cell_type": "code",
   "execution_count": 23,
   "id": "fec327da-8f12-45bc-b66f-9c6fcdeee12f",
   "metadata": {},
   "outputs": [],
   "source": [
    "import abc\n",
    "class solution :\n",
    "    \n",
    "    @abc.abstractmethod\n",
    "    def square():\n",
    "        pass\n",
    "    \n",
    "    @abc.abstractmethod\n",
    "    def cube():\n",
    "        pass\n",
    "    \n",
    "    @abc.abstractmethod\n",
    "    def table():\n",
    "        pass\n",
    "    "
   ]
  },
  {
   "cell_type": "code",
   "execution_count": 24,
   "id": "99beeaa9-27d8-49a0-8a80-3ee3ab22eab0",
   "metadata": {},
   "outputs": [],
   "source": [
    "class test_solution(solution):\n",
    "    \n",
    "    def __init__(self,num):\n",
    "        self.num = num\n",
    "        \n",
    "    def square(self):\n",
    "        print(\"Square is :\", self.num**2)\n",
    "        \n",
    "    def cube(self):\n",
    "        print(\"Cube is :\", self.num**3)\n",
    "        \n",
    "    def table_of_num(self):\n",
    "        i = 1\n",
    "        print(f\"The table of {self.num} : \")\n",
    "        while i <= 10:\n",
    "            print(i*self.num)\n",
    "            i += 1\n",
    "        "
   ]
  },
  {
   "cell_type": "code",
   "execution_count": 25,
   "id": "34e194c8-bc5d-4b52-b536-69c03130f27f",
   "metadata": {},
   "outputs": [],
   "source": [
    "number = test_solution(2)"
   ]
  },
  {
   "cell_type": "code",
   "execution_count": 26,
   "id": "70aeadf6-522c-4202-a714-565f45097b9f",
   "metadata": {},
   "outputs": [
    {
     "data": {
      "text/plain": [
       "2"
      ]
     },
     "execution_count": 26,
     "metadata": {},
     "output_type": "execute_result"
    }
   ],
   "source": [
    "number.num"
   ]
  },
  {
   "cell_type": "code",
   "execution_count": 27,
   "id": "4767e98d-77af-437b-982d-410bceb9c4fb",
   "metadata": {},
   "outputs": [
    {
     "name": "stdout",
     "output_type": "stream",
     "text": [
      "Square is : 4\n"
     ]
    }
   ],
   "source": [
    "number.square()"
   ]
  },
  {
   "cell_type": "code",
   "execution_count": 28,
   "id": "4a841489-e4d3-4b9a-b6bb-25a14b0131a8",
   "metadata": {},
   "outputs": [
    {
     "name": "stdout",
     "output_type": "stream",
     "text": [
      "Cube is : 8\n"
     ]
    }
   ],
   "source": [
    "number.cube()"
   ]
  },
  {
   "cell_type": "code",
   "execution_count": 29,
   "id": "866c037e-1645-4a59-91a8-204c96365f28",
   "metadata": {},
   "outputs": [
    {
     "name": "stdout",
     "output_type": "stream",
     "text": [
      "The table of 2 : \n",
      "2\n",
      "4\n",
      "6\n",
      "8\n",
      "10\n",
      "12\n",
      "14\n",
      "16\n",
      "18\n",
      "20\n"
     ]
    }
   ],
   "source": [
    "number.table_of_num()"
   ]
  },
  {
   "cell_type": "code",
   "execution_count": 30,
   "id": "f9de1f17-e73b-4672-ba6e-13e41a50c5be",
   "metadata": {},
   "outputs": [],
   "source": [
    "# Q3. What is abc module in python? Why is it used?"
   ]
  },
  {
   "cell_type": "code",
   "execution_count": 31,
   "id": "a3ba4d5b-6856-4690-89cf-58ae8ca8c400",
   "metadata": {},
   "outputs": [],
   "source": [
    "# Ans- An Abstract class is one of important concept in object oriented programming(oops). It is \n",
    "#      like blueprint for other classes. For larger projects, it is impossible to remember the \n",
    "#      class details, and also the reusability of code can increase the bug. Therefore, it plays a\n",
    "#      crucial role in our projects.\n",
    "#      By default, Python does not provide abstract classes. The ‘abc’ module in the Python \n",
    "#      library provides the infrastructure for defining custom abstract base classes.\n",
    "#      Abstract class cannot be instantiated in python. An Abstract method can be call by its \n",
    "#      subclasses."
   ]
  },
  {
   "cell_type": "code",
   "execution_count": 32,
   "id": "6176e2b0-5db4-4c67-a8bd-40eeffa730e8",
   "metadata": {},
   "outputs": [],
   "source": [
    "# Q4. How can we achieve data abstraction?"
   ]
  },
  {
   "cell_type": "code",
   "execution_count": 33,
   "id": "8df89b8d-b4d4-4543-8fc5-77beff5a5506",
   "metadata": {},
   "outputs": [],
   "source": [
    "# Ans- we can use the inbuild python class Abstract Base Class (ABC) to achieve data abstraction \n",
    "#      in python. We can say a class is an abstract class when a class contains an abstract method.\n",
    "#      We can use @abstractmethod keyword to define an abstract method in python."
   ]
  },
  {
   "cell_type": "code",
   "execution_count": 34,
   "id": "0ee6a758-aa3c-425e-80ff-e366d819f751",
   "metadata": {},
   "outputs": [],
   "source": [
    "# Q5. Can we create an instance of an abstract class? Explain your answer."
   ]
  },
  {
   "cell_type": "code",
   "execution_count": 35,
   "id": "6f0b2c24-a966-437a-8de7-b5280a8c2ee4",
   "metadata": {},
   "outputs": [],
   "source": [
    "# Ans- "
   ]
  },
  {
   "cell_type": "code",
   "execution_count": 36,
   "id": "e5e5df0c-87e8-452f-8a9e-7d02a0e58de2",
   "metadata": {},
   "outputs": [],
   "source": [
    "import abc\n",
    "\n",
    "class calculation :\n",
    "    \n",
    "    @abc.abstractmethod\n",
    "    def add():\n",
    "        pass\n",
    "    \n",
    "    @abc.abstractmethod\n",
    "    def subtract():\n",
    "        pass\n",
    "    \n",
    "    @abc.abstractmethod\n",
    "    def multiply():\n",
    "        pass\n",
    "    \n",
    "    @abc.abstractmethod\n",
    "    def division():\n",
    "        pass"
   ]
  },
  {
   "cell_type": "code",
   "execution_count": 37,
   "id": "b5180919-ccb2-4d02-bdf0-1148bfca5467",
   "metadata": {},
   "outputs": [],
   "source": [
    "class test_calculation(calculation):\n",
    "    \n",
    "    def __init__(self, a, b):\n",
    "        self.a = a\n",
    "        self.b = b\n",
    "        \n",
    "    def add(self):\n",
    "        print(\"The sum of two numbers :\", self.a + self.b)\n",
    "        \n",
    "    def subtract(self):\n",
    "        print(\"The subtraction of two numbers :\", self.a - self.b)\n",
    "        \n",
    "    def multiply(self):\n",
    "        print(\"The multiply of two numbers :\", self.a*self.b)\n",
    "        \n",
    "    def division(self):\n",
    "        print(\"Division is :\", self.a / self.b)\n",
    "         "
   ]
  },
  {
   "cell_type": "code",
   "execution_count": 38,
   "id": "3a19c4d1-99e2-42a0-a260-20c96d63df7f",
   "metadata": {},
   "outputs": [],
   "source": [
    "call = test_calculation(7,3)"
   ]
  },
  {
   "cell_type": "code",
   "execution_count": 39,
   "id": "b9a519bf-4554-42a3-86bd-edd35402e8d4",
   "metadata": {},
   "outputs": [
    {
     "data": {
      "text/plain": [
       "7"
      ]
     },
     "execution_count": 39,
     "metadata": {},
     "output_type": "execute_result"
    }
   ],
   "source": [
    "call.a"
   ]
  },
  {
   "cell_type": "code",
   "execution_count": 40,
   "id": "a4e82fdf-08fc-4ab0-a67f-facb6bc6b9e3",
   "metadata": {},
   "outputs": [
    {
     "data": {
      "text/plain": [
       "3"
      ]
     },
     "execution_count": 40,
     "metadata": {},
     "output_type": "execute_result"
    }
   ],
   "source": [
    "call.b"
   ]
  },
  {
   "cell_type": "code",
   "execution_count": 41,
   "id": "f168d5f3-1270-47cb-8948-74cfca89c015",
   "metadata": {},
   "outputs": [
    {
     "name": "stdout",
     "output_type": "stream",
     "text": [
      "The sum of two numbers : 10\n"
     ]
    }
   ],
   "source": [
    "call.add()"
   ]
  },
  {
   "cell_type": "code",
   "execution_count": 42,
   "id": "ae469e83-569d-4cad-81f2-5cac3e8662db",
   "metadata": {},
   "outputs": [
    {
     "name": "stdout",
     "output_type": "stream",
     "text": [
      "The subtraction of two numbers : 4\n"
     ]
    }
   ],
   "source": [
    "call.subtract()"
   ]
  },
  {
   "cell_type": "code",
   "execution_count": 43,
   "id": "cb579b68-e37f-46a8-9ec6-1789a709e1e6",
   "metadata": {},
   "outputs": [
    {
     "name": "stdout",
     "output_type": "stream",
     "text": [
      "The multiply of two numbers : 21\n"
     ]
    }
   ],
   "source": [
    "call.multiply()"
   ]
  },
  {
   "cell_type": "code",
   "execution_count": 44,
   "id": "4de05baa-af2a-46d3-b05f-693b7a6b14ae",
   "metadata": {},
   "outputs": [
    {
     "name": "stdout",
     "output_type": "stream",
     "text": [
      "Division is : 2.3333333333333335\n"
     ]
    }
   ],
   "source": [
    "call.division()"
   ]
  },
  {
   "cell_type": "code",
   "execution_count": null,
   "id": "bd570b99-7e55-4337-82ad-5d5e5856872f",
   "metadata": {},
   "outputs": [],
   "source": []
  },
  {
   "cell_type": "code",
   "execution_count": null,
   "id": "656b16f5-bd8a-4acf-9c8c-8bf771649be3",
   "metadata": {},
   "outputs": [],
   "source": []
  },
  {
   "cell_type": "code",
   "execution_count": null,
   "id": "30e229ef-3ceb-43e1-9ba0-a5b2db6a21e5",
   "metadata": {},
   "outputs": [],
   "source": []
  },
  {
   "cell_type": "code",
   "execution_count": null,
   "id": "74cb3778-bb73-493b-9e72-c7396b789e25",
   "metadata": {},
   "outputs": [],
   "source": []
  }
 ],
 "metadata": {
  "kernelspec": {
   "display_name": "Python 3 (ipykernel)",
   "language": "python",
   "name": "python3"
  },
  "language_info": {
   "codemirror_mode": {
    "name": "ipython",
    "version": 3
   },
   "file_extension": ".py",
   "mimetype": "text/x-python",
   "name": "python",
   "nbconvert_exporter": "python",
   "pygments_lexer": "ipython3",
   "version": "3.10.8"
  }
 },
 "nbformat": 4,
 "nbformat_minor": 5
}
